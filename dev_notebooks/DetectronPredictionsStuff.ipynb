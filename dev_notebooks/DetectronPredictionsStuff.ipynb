{
 "cells": [
  {
   "cell_type": "code",
   "execution_count": 42,
   "metadata": {
    "ExecuteTime": {
     "end_time": "2022-06-11T20:00:40.423270Z",
     "start_time": "2022-06-11T20:00:40.413980Z"
    }
   },
   "outputs": [],
   "source": [
    "import pickle\n",
    "import torch\n",
    "import detectron2\n",
    "\n",
    "with open('/home/tzeny/Downloads/test_output/7.jpg.pkl', 'rb') as file:\n",
    "    data = pickle.load(file)"
   ]
  },
  {
   "cell_type": "code",
   "execution_count": 60,
   "metadata": {
    "ExecuteTime": {
     "end_time": "2022-06-11T20:26:30.340175Z",
     "start_time": "2022-06-11T20:26:30.325205Z"
    }
   },
   "outputs": [],
   "source": [
    "class_id_dict = {\n",
    "    58: 'coord_copac',\n",
    "    0: 'coord_om'\n",
    "}\n",
    "resulting_bboxes = {\n",
    "    'coord_om': [0, 0, 0, 0],\n",
    "    'coord_copac': [0, 0, 0, 0]\n",
    "}\n",
    "\n",
    "def get_area(bbox):\n",
    "    return abs(bbox[0] - bbox[2]) * abs(bbox[1] - bbox[3])\n",
    "\n",
    "for bbox, score, class_id in zip(data['instances'].pred_boxes.tensor.numpy(), data['instances'].scores.numpy(), data['instances'].pred_classes.numpy()): \n",
    "    if class_id not in class_id_dict.keys():\n",
    "        continue\n",
    "        \n",
    "    if get_area(bbox) > get_area(resulting_bboxes[class_id_dict[class_id]]):\n",
    "        resulting_bboxes[class_id_dict[class_id]] = bbox\n",
    "        \n",
    "resulting_bboxes['coord_om'] = resulting_bboxes['coord_om'].tolist()\n",
    "resulting_bboxes['coord_copac'] = resulting_bboxes['coord_copac'].tolist()"
   ]
  },
  {
   "cell_type": "code",
   "execution_count": 61,
   "metadata": {
    "ExecuteTime": {
     "end_time": "2022-06-11T20:26:32.431860Z",
     "start_time": "2022-06-11T20:26:32.422659Z"
    }
   },
   "outputs": [
    {
     "data": {
      "text/plain": [
       "{'coord_om': [624.6705932617188,\n",
       "  191.458251953125,\n",
       "  1695.9998779296875,\n",
       "  1665.6812744140625],\n",
       " 'coord_copac': [413.70465087890625,\n",
       "  7.2717976570129395,\n",
       "  905.0913696289062,\n",
       "  666.589599609375]}"
      ]
     },
     "execution_count": 61,
     "metadata": {},
     "output_type": "execute_result"
    }
   ],
   "source": [
    "resulting_bboxes"
   ]
  },
  {
   "cell_type": "code",
   "execution_count": null,
   "metadata": {},
   "outputs": [],
   "source": []
  }
 ],
 "metadata": {
  "kernelspec": {
   "display_name": "torch_cpu",
   "language": "python",
   "name": "torch_cpu"
  },
  "language_info": {
   "codemirror_mode": {
    "name": "ipython",
    "version": 3
   },
   "file_extension": ".py",
   "mimetype": "text/x-python",
   "name": "python",
   "nbconvert_exporter": "python",
   "pygments_lexer": "ipython3",
   "version": "3.7.0"
  },
  "toc": {
   "base_numbering": 1,
   "nav_menu": {},
   "number_sections": true,
   "sideBar": true,
   "skip_h1_title": false,
   "title_cell": "Table of Contents",
   "title_sidebar": "Contents",
   "toc_cell": false,
   "toc_position": {},
   "toc_section_display": true,
   "toc_window_display": false
  }
 },
 "nbformat": 4,
 "nbformat_minor": 2
}
